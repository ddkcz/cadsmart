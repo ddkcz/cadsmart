{
 "cells": [
  {
   "cell_type": "code",
   "execution_count": 18,
   "id": "c9de1690",
   "metadata": {},
   "outputs": [
    {
     "name": "stdout",
     "output_type": "stream",
     "text": [
      "Podaj długość wraz z jednostką w formacie \n",
      " metrycznym:\n",
      " mm, cm, m, km:\n",
      " lub imperialnym:\n",
      " in, ft, yd, fur, mi \n",
      " >> 50 cm\n",
      "['50', 'cm']\n",
      "Na co zamienić tą długość?\n",
      " Format metryczny??:\n",
      " mm, cm, m, km:\n",
      " Format imperialny??:\n",
      " in, ft, yd, fur, mi \n",
      " >> yd\n"
     ]
    },
    {
     "ename": "NameError",
     "evalue": "name 'Unit_it' is not defined",
     "output_type": "error",
     "traceback": [
      "\u001b[1;31m---------------------------------------------------------------------------\u001b[0m",
      "\u001b[1;31mNameError\u001b[0m                                 Traceback (most recent call last)",
      "Cell \u001b[1;32mIn[18], line 12\u001b[0m\n\u001b[0;32m     10\u001b[0m Unit_in \u001b[38;5;241m=\u001b[39m x[\u001b[38;5;241m1\u001b[39m]\n\u001b[0;32m     11\u001b[0m Unit_out \u001b[38;5;241m=\u001b[39m \u001b[38;5;28minput\u001b[39m(\u001b[38;5;124m\"\u001b[39m\u001b[38;5;124mNa co zamienić tą długość?\u001b[39m\u001b[38;5;130;01m\\n\u001b[39;00m\u001b[38;5;124m Format metryczny??:\u001b[39m\u001b[38;5;130;01m\\n\u001b[39;00m\u001b[38;5;124m mm, cm, m, km:\u001b[39m\u001b[38;5;130;01m\\n\u001b[39;00m\u001b[38;5;124m Format imperialny??:\u001b[39m\u001b[38;5;130;01m\\n\u001b[39;00m\u001b[38;5;124m in, ft, yd, fur, mi \u001b[39m\u001b[38;5;130;01m\\n\u001b[39;00m\u001b[38;5;124m >>\u001b[39m\u001b[38;5;124m\"\u001b[39m)\n\u001b[1;32m---> 12\u001b[0m \u001b[38;5;28mprint\u001b[39m(\u001b[43mUnit_it\u001b[49m, Value_in)\n",
      "\u001b[1;31mNameError\u001b[0m: name 'Unit_it' is not defined"
     ]
    }
   ],
   "source": [
    "def main():\n",
    "    com = \"Podaj długość wraz z jednostką w formacie \\n metrycznym:\\n mm, cm, m, km:\\n lub imperialnym:\\n in, ft, yd, fur, mi \\n >> \"\n",
    "    x = input(com)\n",
    "    x = x.split(\" \")\n",
    "    return x\n",
    "main()\n",
    "print(x)\n",
    "Value_in = x[0]\n",
    "Value_in = float(Value_in)\n",
    "Unit_in = x[1]\n",
    "Unit_out = input(\"Na co zamienić tą długość?\\n Format metryczny??:\\n mm, cm, m, km:\\n Format imperialny??:\\n in, ft, yd, fur, mi \\n >>\")\n",
    "print(Unit_it, Value_in)\n",
    "\n"
   ]
  }
 ],
 "metadata": {
  "kernelspec": {
   "display_name": "Python 3 (ipykernel)",
   "language": "python",
   "name": "python3"
  },
  "language_info": {
   "codemirror_mode": {
    "name": "ipython",
    "version": 3
   },
   "file_extension": ".py",
   "mimetype": "text/x-python",
   "name": "python",
   "nbconvert_exporter": "python",
   "pygments_lexer": "ipython3",
   "version": "3.10.9"
  }
 },
 "nbformat": 4,
 "nbformat_minor": 5
}
