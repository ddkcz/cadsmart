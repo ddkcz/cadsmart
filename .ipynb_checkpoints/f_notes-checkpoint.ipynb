{
 "cells": [
  {
   "cell_type": "code",
   "execution_count": 45,
   "id": "480dfbee",
   "metadata": {},
   "outputs": [
    {
     "name": "stdout",
     "output_type": "stream",
     "text": [
      "Give me a number 5\n",
      "5\n"
     ]
    },
    {
     "data": {
      "text/plain": [
       "5"
      ]
     },
     "execution_count": 45,
     "metadata": {},
     "output_type": "execute_result"
    }
   ],
   "source": [
    "\n",
    "print(x)"
   ]
  },
  {
   "cell_type": "code",
   "execution_count": null,
   "id": "abdad962",
   "metadata": {},
   "outputs": [],
   "source": [
    "com = \"Podaj długość wraz z jednostką w formacie \\n metrycznym:\\n mm, cm, m, km:\\n lub imperialnym:\\n in, ft, yd, fur, mi \\n: \"\n",
    "x = input(com)\n",
    "print(x)"
   ]
  },
  {
   "cell_type": "code",
   "execution_count": null,
   "id": "d59d7bbd",
   "metadata": {},
   "outputs": [],
   "source": []
  },
  {
   "cell_type": "code",
   "execution_count": 85,
   "id": "3979207a",
   "metadata": {},
   "outputs": [
    {
     "name": "stdout",
     "output_type": "stream",
     "text": [
      "Podaj długość wraz z jednostką50 cm\n",
      "['50', 'mm']\n",
      "wartosc: 50 jednostka: mm\n"
     ]
    }
   ],
   "source": [
    "x = input(\"Podaj długość wraz z jednostką\")\n",
    "    #if mm,m,dm,cm to wykonać dla metrycznych itp\n",
    "metryczne_x = x.split(\" \")\n",
    "print(lista_x)\n",
    "wartosc = lista_x[0]\n",
    "jednostka = lista_x[1]\n",
    "print(f\"wartosc: {wartosc} jednostka: {jednostka}\")"
   ]
  },
  {
   "cell_type": "code",
   "execution_count": 72,
   "id": "9bf3138b",
   "metadata": {},
   "outputs": [
    {
     "ename": "SyntaxError",
     "evalue": "invalid syntax (4002489445.py, line 1)",
     "output_type": "error",
     "traceback": [
      "\u001b[1;36m  Cell \u001b[1;32mIn[72], line 1\u001b[1;36m\u001b[0m\n\u001b[1;33m    50 mm\u001b[0m\n\u001b[1;37m       ^\u001b[0m\n\u001b[1;31mSyntaxError\u001b[0m\u001b[1;31m:\u001b[0m invalid syntax\n"
     ]
    }
   ],
   "source": [
    "dictionary_unique = {\n",
    "        \"mm\": \"1000\", \n",
    "        \"cm\": \"100\", \n",
    "        \"dm\": \"10\"\n",
    "        \"m\": \"1\"\n",
    "        \"km\": \"0,001\"\n",
    "        }"
   ]
  },
  {
   "cell_type": "code",
   "execution_count": 75,
   "id": "5a691642",
   "metadata": {},
   "outputs": [
    {
     "name": "stdout",
     "output_type": "stream",
     "text": [
      "Na co zamienić tą długość? cenymetr\n",
      "cm\n"
     ]
    }
   ],
   "source": [
    "y = input(\"Na co zamienić tą długość? \")\n",
    "match y: \n",
    "    case \"cenymetr\":\n",
    "        print(\"cm\")\n",
    "    case \"kilometr\":   \n",
    "        print(\"km\")"
   ]
  },
  {
   "cell_type": "code",
   "execution_count": 84,
   "id": "c664bd73",
   "metadata": {},
   "outputs": [
    {
     "name": "stdout",
     "output_type": "stream",
     "text": [
      "x 13\n"
     ]
    },
    {
     "data": {
      "text/plain": [
       "130"
      ]
     },
     "execution_count": 84,
     "metadata": {},
     "output_type": "execute_result"
    }
   ],
   "source": [
    "def up():\n",
    "    x = 10 * x\n",
    "    return x\n",
    "\n",
    "up()"
   ]
  },
  {
   "cell_type": "code",
   "execution_count": 92,
   "id": "e914d0d9",
   "metadata": {},
   "outputs": [
    {
     "ename": "SyntaxError",
     "evalue": "expected ':' (1853768068.py, line 1)",
     "output_type": "error",
     "traceback": [
      "\u001b[1;36m  Cell \u001b[1;32mIn[92], line 1\u001b[1;36m\u001b[0m\n\u001b[1;33m    def metric()\u001b[0m\n\u001b[1;37m                ^\u001b[0m\n\u001b[1;31mSyntaxError\u001b[0m\u001b[1;31m:\u001b[0m expected ':'\n"
     ]
    }
   ],
   "source": [
    "def metric()\n",
    "    x = input(\"Podaj długość wraz z jednostką\")\n",
    "        #if mm,m,dm,cm to wykonać dla metrycznych itp\n",
    "    metryczne_x = x.split(\" \")\n",
    "    \n",
    "    wartosc = lista_x[0]\n",
    "    wartosc = int(wartosc)\n",
    "    jednostka = lista_x[1]\n",
    "\n",
    "    #zamiana na m\n",
    "    match jednostka:\n",
    "        case \"mm\":\n",
    "            wartosc = wartosc / 1000\n",
    "        case \"cm\":\n",
    "            wartosc = wartosc / 100\n",
    "        case \"dm\":\n",
    "            wartosc = wartosc / 10\n",
    "        case \"m\":\n",
    "            wartosc = wartosc\n",
    "        case \"km\":\n",
    "            wartosc = wartosc * 1000 \n",
    "\n",
    "    y = input(\"Na co zamienić tą długość?: \")\n",
    "        #centymetr, cośtam itp -> zrobić filtrowanie\n",
    "    match y:\n",
    "        case \"mm\":\n",
    "            wartosc = wartosc * 1000\n",
    "        case \"cm\":\n",
    "            wartosc = wartosc * 100\n",
    "        case \"dm\":\n",
    "            wartosc = wartosc * 10\n",
    "        case \"m\":\n",
    "            wartosc = wartosc\n",
    "        case \"km\":\n",
    "            wartosc = wartosc / 1000  \n",
    "\n",
    "\n",
    "metric()"
   ]
  },
  {
   "cell_type": "code",
   "execution_count": null,
   "id": "8facd655",
   "metadata": {},
   "outputs": [],
   "source": [
    "#przeliczniki w systemie metrycznym           \n",
    " def up():\n",
    "    x = 10 * x\n",
    "    return x\n",
    "\n",
    "def down up():\n",
    "    x = 10/\n",
    "    return x   \n"
   ]
  },
  {
   "cell_type": "code",
   "execution_count": null,
   "id": "74ae68c5",
   "metadata": {},
   "outputs": [],
   "source": [
    "x = input(\"Podaj długość wraz z jednostką w formacie: mm, cm, m, km: \")\n",
    "        #if mm,m,dm,cm to wykonać dla metrycznych itp\n",
    "    x = x.split(\" \")\n",
    "    \n",
    "\n",
    "    # dodać funkcję, która pozwoli na przypisanie zawsze mm cm dm m km dla jednostki w tym miejscu listy, \n",
    "    # bez względu na formę wkładu przez klienta\n",
    "    wartosc = x[0]\n",
    "    wartosc = float(wartosc)\n",
    "    jednostka = x[1]\n",
    "    if jednostka = \"mm\" or \"cm\" or \"m\" or \"km\"\n",
    "        x[2] = met\n",
    "    elif jednostka = \"in\" or \"ft\" or \"yd\" or \"mi\"\n",
    "        x[2] = imp\n",
    "    \n"
   ]
  },
  {
   "cell_type": "code",
   "execution_count": 2,
   "id": "01972d3a",
   "metadata": {},
   "outputs": [
    {
     "ename": "IndentationError",
     "evalue": "unindent does not match any outer indentation level (<tokenize>, line 16)",
     "output_type": "error",
     "traceback": [
      "\u001b[1;36m  File \u001b[1;32m<tokenize>:16\u001b[1;36m\u001b[0m\n\u001b[1;33m    return na_mile\u001b[0m\n\u001b[1;37m    ^\u001b[0m\n\u001b[1;31mIndentationError\u001b[0m\u001b[1;31m:\u001b[0m unindent does not match any outer indentation level\n"
     ]
    }
   ],
   "source": [
    "mila = 5\n",
    "na_mile = 5\n",
    "def imperial(mila, na_mile):\n",
    "   match mila:\n",
    "        case \"in\":\n",
    "            na_mile = na_mile * 63360\n",
    "        case \"ft\":\n",
    "            na_mile = na_mile * 5.280\n",
    "        case \"yd\":\n",
    "            na_mile = na_mile * 1.760\n",
    "        case \"fur\":\n",
    "            na_mile = na_mile * 5.280\n",
    "        case \"mi\":\n",
    "            na_mile = na_mil\n",
    "            \n",
    "    return na_mile\n",
    "\n",
    "imperial()"
   ]
  },
  {
   "cell_type": "code",
   "execution_count": null,
   "id": "9aa20a3d",
   "metadata": {},
   "outputs": [],
   "source": [
    "x = input(\"Podaj długość wraz z jednostką w formacie \\n metrycznym:\\n mm, cm, m, km:\\n lub imperialnym:\\n in, ft, yd, fur, mi \\n: \")\n",
    "x = x.split(\" \")\n",
    "print(x)"
   ]
  }
 ],
 "metadata": {
  "kernelspec": {
   "display_name": "Python 3 (ipykernel)",
   "language": "python",
   "name": "python3"
  },
  "language_info": {
   "codemirror_mode": {
    "name": "ipython",
    "version": 3
   },
   "file_extension": ".py",
   "mimetype": "text/x-python",
   "name": "python",
   "nbconvert_exporter": "python",
   "pygments_lexer": "ipython3",
   "version": "3.10.9"
  }
 },
 "nbformat": 4,
 "nbformat_minor": 5
}
